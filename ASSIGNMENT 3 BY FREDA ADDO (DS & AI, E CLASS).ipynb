{
 "cells": [
  {
   "cell_type": "code",
   "execution_count": null,
   "id": "1c74d0af",
   "metadata": {},
   "outputs": [],
   "source": [
    "1. Write a program that finds the maximum value of the given list, assuming that the list contains at least one element. \n",
    "Try your program with the following array\n",
    " 2 4 7 4 23 5 1 4 8 9 \n"
   ]
  },
  {
   "cell_type": "code",
   "execution_count": 1,
   "id": "6b1f0d62",
   "metadata": {},
   "outputs": [
    {
     "name": "stdout",
     "output_type": "stream",
     "text": [
      "Maximum value: 23\n"
     ]
    }
   ],
   "source": [
    "numbers1 = [2, 4, 7, 4, 23, 5, 1, 4, 8, 9]\n",
    "max_value = max(numbers1)\n",
    "print(\"Maximum value:\", max_value)\n"
   ]
  },
  {
   "cell_type": "code",
   "execution_count": null,
   "id": "c1f6d602",
   "metadata": {},
   "outputs": [],
   "source": [
    "2. Write a program that calculates the average value of the given list.\n",
    " Try your program with the following list\n",
    "\n",
    " 4 7 1 5 11 53 12 46 84 23 \n"
   ]
  },
  {
   "cell_type": "code",
   "execution_count": 2,
   "id": "f4e6d8ba",
   "metadata": {},
   "outputs": [
    {
     "name": "stdout",
     "output_type": "stream",
     "text": [
      "Average value: 24.6\n"
     ]
    }
   ],
   "source": [
    "numbers2 = [4, 7, 1, 5, 11, 53, 12, 46, 84, 23]\n",
    "average_value = sum(numbers2) / len(numbers2)\n",
    "print(\"Average value:\", average_value)\n"
   ]
  },
  {
   "cell_type": "code",
   "execution_count": null,
   "id": "74f08a05",
   "metadata": {},
   "outputs": [],
   "source": [
    "3. Write a program that prints the given list of integers in reverse order. Try your program with the following list\n",
    " 2 6 7 45 23 53 14 45 89 5 \n"
   ]
  },
  {
   "cell_type": "code",
   "execution_count": 3,
   "id": "bc709b35",
   "metadata": {},
   "outputs": [
    {
     "name": "stdout",
     "output_type": "stream",
     "text": [
      "Reversed list: [5, 89, 45, 14, 53, 23, 45, 7, 6, 2]\n"
     ]
    }
   ],
   "source": [
    "numbers3 = [2, 6, 7, 45, 23, 53, 14, 45, 89, 5]\n",
    "reversed_list = list(reversed(numbers3))\n",
    "print(\"Reversed list:\", reversed_list)\n"
   ]
  },
  {
   "cell_type": "code",
   "execution_count": null,
   "id": "c76c8a40",
   "metadata": {},
   "outputs": [],
   "source": [
    "4. Write a program that accepts two lists of integers and prints true \n",
    "if each element in the first list is less than the element at the same index in the second list. \n",
    "Your program should print false if the lists are not the same length. "
   ]
  },
  {
   "cell_type": "code",
   "execution_count": 4,
   "id": "8daf6fd1",
   "metadata": {},
   "outputs": [
    {
     "name": "stdout",
     "output_type": "stream",
     "text": [
      "Result: True\n"
     ]
    }
   ],
   "source": [
    "def compare_lists(list1, list2):\n",
    "    if len(list1) != len(list2):\n",
    "        return False\n",
    "    return all(x < y for x, y in zip(list1, list2))\n",
    "\n",
    "# Example usage\n",
    "numbers4a = [2, 4, 7, 4, 23, 5, 1, 4, 8, 9]\n",
    "numbers4b = [3, 6, 8, 5, 24, 8, 2, 5, 9, 11]\n",
    "result = compare_lists(numbers4a, numbers4b)\n",
    "print(\"Result:\", result)\n"
   ]
  },
  {
   "cell_type": "code",
   "execution_count": null,
   "id": "f50b46c8",
   "metadata": {},
   "outputs": [],
   "source": [
    "5. Write a program that accepts a list of integers \n",
    "and two indexes and swaps the elements at those indexes"
   ]
  },
  {
   "cell_type": "code",
   "execution_count": 5,
   "id": "5845944a",
   "metadata": {},
   "outputs": [
    {
     "name": "stdout",
     "output_type": "stream",
     "text": [
      "Swapped list: [1, 4, 3, 2, 5]\n"
     ]
    }
   ],
   "source": [
    "def swap_elements(lst, index1, index2):\n",
    "    lst[index1], lst[index2] = lst[index2], lst[index1]\n",
    "\n",
    "# Example usage\n",
    "numbers5 = [1, 2, 3, 4, 5]\n",
    "swap_elements(numbers5, 1, 3)\n",
    "print(\"Swapped list:\", numbers5)\n"
   ]
  },
  {
   "cell_type": "code",
   "execution_count": null,
   "id": "e95b8dcf",
   "metadata": {},
   "outputs": [],
   "source": [
    "6. Write a program that accepts two lists of integers \n",
    "and prints a new list containing all elements of the first list \n",
    "followed by all elements of the second.\n",
    "\n"
   ]
  },
  {
   "cell_type": "code",
   "execution_count": 6,
   "id": "dbf43916",
   "metadata": {},
   "outputs": [
    {
     "name": "stdout",
     "output_type": "stream",
     "text": [
      "Concatenated list: [21, 22, 23, 24, 25, 26]\n"
     ]
    }
   ],
   "source": [
    "numbers6a = [21, 22, 23]\n",
    "numbers6b = [24, 25, 26]\n",
    "concatenated_list = numbers6a + numbers6b\n",
    "print(\"Concatenated list:\", concatenated_list)\n"
   ]
  },
  {
   "cell_type": "code",
   "execution_count": null,
   "id": "00c00e5c",
   "metadata": {},
   "outputs": [],
   "source": [
    "7. Write a program that accepts a list of integers \n",
    "and an integer value as its parameters and prints the last index\n",
    "at which the value occurs in the list. \n",
    "The program should print –1 if the value is not found. \n",
    "For example, in the list [74, 85, 102, 99, 101, 85, 56], the last index of the value 85 is 5. \n"
   ]
  },
  {
   "cell_type": "code",
   "execution_count": 7,
   "id": "5e01e3cf",
   "metadata": {},
   "outputs": [
    {
     "name": "stdout",
     "output_type": "stream",
     "text": [
      "Last index of 85 is 5\n"
     ]
    }
   ],
   "source": [
    "def last_index_of_value(lst, value):\n",
    "    try:\n",
    "        index = len(lst) - 1 - lst[::-1].index(value)\n",
    "        return index\n",
    "    except ValueError:\n",
    "        return -1\n",
    "\n",
    "# Example usage\n",
    "numbers7 = [74, 85, 102, 99, 101, 85, 56]\n",
    "value_to_find = 85\n",
    "last_index = last_index_of_value(numbers7, value_to_find)\n",
    "print(\"Last index of\", value_to_find, \"is\", last_index)\n"
   ]
  },
  {
   "cell_type": "code",
   "execution_count": null,
   "id": "f320ccf9",
   "metadata": {},
   "outputs": [],
   "source": [
    "8. Write a program that prints the range of values in a list of integers. The range is defined as 1 more than the difference \n",
    "between the maximum and minimum values in the list.\n",
    "For example, if a list contains the values [36, 12, 25, 19, 46, 31, 22], the program should return 35. \n",
    "You may assume that the list has at least one element. "
   ]
  },
  {
   "cell_type": "code",
   "execution_count": 8,
   "id": "77a1db16",
   "metadata": {},
   "outputs": [
    {
     "name": "stdout",
     "output_type": "stream",
     "text": [
      "Range of values: 35\n"
     ]
    }
   ],
   "source": [
    "numbers8 = [36, 12, 25, 19, 46, 31, 22]\n",
    "value_range = max(numbers8) - min(numbers8) + 1\n",
    "print(\"Range of values:\", value_range)\n"
   ]
  },
  {
   "cell_type": "code",
   "execution_count": null,
   "id": "5864e776",
   "metadata": {},
   "outputs": [],
   "source": [
    "9. Write a program that accepts a list of integers, a minimum value, \n",
    "and a maximum value and prints the count of how many elements \n",
    "from the list fall between the minimum and maximum (inclusive). \n",
    "For example, in the list [14, 1, 22, 17, 36, 7, -43, 5], for minimum value 4 and maximum value 17,\n",
    "there are four elements whose values fall between 4 and 17. \n",
    "\n"
   ]
  },
  {
   "cell_type": "code",
   "execution_count": 9,
   "id": "585424ab",
   "metadata": {},
   "outputs": [
    {
     "name": "stdout",
     "output_type": "stream",
     "text": [
      "Number of elements between 4 and 17: 4\n"
     ]
    }
   ],
   "source": [
    "def count_elements_between(lst, min_value, max_value):\n",
    "    count = sum(min_value <= x <= max_value for x in lst)\n",
    "    return count\n",
    "\n",
    "# Example usage\n",
    "numbers9 = [14, 1, 22, 17, 36, 7, -43, 5]\n",
    "min_value = 4\n",
    "max_value = 17\n",
    "count_between = count_elements_between(numbers9, min_value, max_value)\n",
    "print(f\"Number of elements between {min_value} and {max_value}:\", count_between)\n"
   ]
  },
  {
   "cell_type": "code",
   "execution_count": null,
   "id": "d9003f7a",
   "metadata": {},
   "outputs": [],
   "source": [
    "10. Write a program that accepts a list of real numbers and prints true if the list is in sorted (nondecreasing) order and false otherwise. \n",
    "For example, if lists named list1 and list2 store [16.1, 12.3, 22.2, 14.4] and [1.5, 4.3, 7.0, 19.5, 25.1, 46.2] respectively, \n",
    "the program should print false for list1 and true for list2 respectively. \n",
    "Assume the list has at least one element. A one-element list is sorted. "
   ]
  },
  {
   "cell_type": "code",
   "execution_count": 10,
   "id": "f9052ceb",
   "metadata": {},
   "outputs": [
    {
     "name": "stdout",
     "output_type": "stream",
     "text": [
      "Is list10a sorted? False\n",
      "Is list10b sorted? True\n"
     ]
    }
   ],
   "source": [
    "def is_sorted(lst):\n",
    "    return all(lst[i] <= lst[i+1] for i in range(len(lst)-1))\n",
    "\n",
    "# Example usage\n",
    "list10a = [16.1, 12.3, 22.2, 14.4]\n",
    "list10b = [1.5, 4.3, 7.0, 19.5, 25.1, 46.2]\n",
    "result10a = is_sorted(list10a)\n",
    "result10b = is_sorted(list10b)\n",
    "print(\"Is list10a sorted?\", result10a)\n",
    "print(\"Is list10b sorted?\", result10b)\n"
   ]
  },
  {
   "cell_type": "code",
   "execution_count": null,
   "id": "94e0efe6",
   "metadata": {},
   "outputs": [],
   "source": []
  }
 ],
 "metadata": {
  "kernelspec": {
   "display_name": "Python 3 (ipykernel)",
   "language": "python",
   "name": "python3"
  },
  "language_info": {
   "codemirror_mode": {
    "name": "ipython",
    "version": 3
   },
   "file_extension": ".py",
   "mimetype": "text/x-python",
   "name": "python",
   "nbconvert_exporter": "python",
   "pygments_lexer": "ipython3",
   "version": "3.11.5"
  }
 },
 "nbformat": 4,
 "nbformat_minor": 5
}
