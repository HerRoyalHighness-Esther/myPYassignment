{
 "cells": [
  {
   "cell_type": "code",
   "execution_count": null,
   "id": "897cd13f",
   "metadata": {},
   "outputs": [],
   "source": [
    "1. Write a program to produce the following output using for loop\n",
    " +----+ \n",
    "\\    /   \n",
    " \\    /  \n",
    "  \\    /  \n",
    "  /    \\ \n",
    "/       \\\n",
    "/        \\ \n",
    "+----+ "
   ]
  },
  {
   "cell_type": "code",
   "execution_count": 1,
   "id": "6d7a2936",
   "metadata": {},
   "outputs": [
    {
     "name": "stdout",
     "output_type": "stream",
     "text": [
      "\\        /\n",
      " \\      /\n",
      "  \\    /\n",
      "   \\  /\n",
      "    \\/\n",
      "+----+\n"
     ]
    }
   ],
   "source": [
    "for i in range(5):\n",
    "    print(\" \" * i + \"\\\\\" + \" \" * (8 - 2 * i) + \"/\")\n",
    "print(\"+----+\")\n"
   ]
  },
  {
   "cell_type": "code",
   "execution_count": null,
   "id": "2e158738",
   "metadata": {},
   "outputs": [],
   "source": [
    "2. Write a program to produce the following output using for loop \n",
    "********** \n",
    "********** \n",
    "********** \n",
    "********** \n",
    "**********"
   ]
  },
  {
   "cell_type": "code",
   "execution_count": 2,
   "id": "ee10e408",
   "metadata": {},
   "outputs": [
    {
     "name": "stdout",
     "output_type": "stream",
     "text": [
      "**********\n",
      "**********\n",
      "**********\n",
      "**********\n",
      "**********\n"
     ]
    }
   ],
   "source": [
    "for i in range(5):\n",
    "    print(\"*\" * 10)\n"
   ]
  },
  {
   "cell_type": "code",
   "execution_count": null,
   "id": "3d88474f",
   "metadata": {},
   "outputs": [],
   "source": [
    "3. Complete the code for the following for loop: \n",
    " for in range(1,7): \n",
    "//your code here \n",
    "\n",
    "so that it prints the following numbers, one per line:  \n",
    "\n",
    "a) 1 b) 2 c) 4 d) 30 e) -7 f) 97 g) -4  2  4  19  20  -3  94  14  3  6  34  10  1 \n",
    "91  32  4  8  49  0  5  88  50  5  10  64  -10  9  85  68  6  12  79  -20  13  82  86 "
   ]
  },
  {
   "cell_type": "code",
   "execution_count": 3,
   "id": "5bebf9b4",
   "metadata": {},
   "outputs": [
    {
     "name": "stdout",
     "output_type": "stream",
     "text": [
      "1\n",
      "2\n",
      "4\n",
      "30\n",
      "-7\n",
      "97\n",
      "-4\n",
      "2\n",
      "4\n",
      "19\n",
      "20\n",
      "-3\n",
      "94\n",
      "14\n",
      "3\n",
      "6\n",
      "34\n",
      "10\n",
      "1\n",
      "91\n",
      "32\n",
      "4\n",
      "8\n",
      "49\n",
      "0\n",
      "5\n",
      "88\n",
      "50\n",
      "5\n",
      "10\n",
      "64\n",
      "-10\n",
      "9\n",
      "85\n",
      "68\n",
      "6\n",
      "12\n",
      "79\n",
      "-20\n",
      "13\n",
      "82\n",
      "86\n"
     ]
    }
   ],
   "source": [
    "for num in [1, 2, 4, 30, -7, 97, -4, 2, 4, 19, 20, -3, 94, 14, 3, 6, 34, 10, 1, 91, 32, 4, 8, 49, 0, 5, 88, 50, 5, 10, 64, -10, 9, 85, 68, 6, 12, 79, -20, 13, 82, 86]:\n",
    "    print(num)\n"
   ]
  },
  {
   "cell_type": "code",
   "execution_count": null,
   "id": "4125c3c5",
   "metadata": {},
   "outputs": [],
   "source": [
    " 4. Write a program to produce the following output using for loops. \n",
    "    Then use a class constant to make it possible to change the number of lines in the figure. \n",
    "1 \n",
    "22 \n",
    "333 \n",
    "4444 \n",
    "55555 \n",
    "666666 \n",
    "7777777  "
   ]
  },
  {
   "cell_type": "code",
   "execution_count": 4,
   "id": "633fcab1",
   "metadata": {},
   "outputs": [
    {
     "name": "stdout",
     "output_type": "stream",
     "text": [
      "1\n",
      "22\n",
      "333\n",
      "4444\n",
      "55555\n",
      "666666\n",
      "7777777\n"
     ]
    }
   ],
   "source": [
    "class Figure:\n",
    "    LINES = 7\n",
    "    \n",
    "    def print_figure(self):\n",
    "        for i in range(1, self.LINES + 1):\n",
    "            print(str(i) * i)\n",
    "\n",
    "figure = Figure()\n",
    "figure.print_figure()\n"
   ]
  },
  {
   "cell_type": "code",
   "execution_count": null,
   "id": "d5cea569",
   "metadata": {},
   "outputs": [],
   "source": [
    "5. Write a method named pay that accepts two parameters: a real number for a TA's salary, and an integer for the number of hours the TA worked this week. The method should return how much money to pay the TA. \n",
    "\n",
    "For example, the call  pay(5.50, 6)  \n",
    "\n",
    "should return  \n",
    "33.0.  \n",
    "\n",
    "The TA should receive \"overtime\" pay of 1 ½ normal salary for any hours above 8. \n",
    "\n",
    "For example, the call pay(4.00, 11)  should return  (4.00 * 8) + (6.00 * 3) or 50.0.    \n"
   ]
  },
  {
   "cell_type": "code",
   "execution_count": 5,
   "id": "2a974438",
   "metadata": {},
   "outputs": [
    {
     "name": "stdout",
     "output_type": "stream",
     "text": [
      "33.0\n",
      "50.0\n"
     ]
    }
   ],
   "source": [
    "def pay(salary, hours_worked):\n",
    "    normal_hours = min(8, hours_worked)\n",
    "    overtime_hours = max(0, hours_worked - 8)\n",
    "    \n",
    "    return (salary * normal_hours) + (1.5 * salary * overtime_hours)\n",
    "\n",
    "# Example usage\n",
    "print(pay(5.50, 6))  # Output: 33.0\n",
    "print(pay(4.00, 11)) # Output: 50.0\n"
   ]
  },
  {
   "cell_type": "code",
   "execution_count": null,
   "id": "b4fed1e2",
   "metadata": {},
   "outputs": [],
   "source": [
    "6. Consider the following method for converting milliseconds into days: \n",
    "\n",
    "// converts milliseconds to days def toDays(millis):  return millis / 1000.0 / 60.0 / 60.0 / 24.0 \n",
    "\n",
    "Write a similar method named area that takes as a parameter the radius of a circle and that returns the area of the circle. For example, the call \n",
    "\n",
    " area(2.0); \n",
    "\n",
    " should return \n",
    "\n",
    " 12.566370614359172. \n",
    "\n",
    " Recall that area can be computed as π times the radius squared and that Python has a constant called math.pi "
   ]
  },
  {
   "cell_type": "code",
   "execution_count": 6,
   "id": "9299f92b",
   "metadata": {},
   "outputs": [
    {
     "name": "stdout",
     "output_type": "stream",
     "text": [
      "12.566370614359172\n"
     ]
    }
   ],
   "source": [
    "import math\n",
    "\n",
    "def area(radius):\n",
    "    return math.pi * radius**2\n",
    "\n",
    "# Example usage\n",
    "print(area(2.0))  # Output: 12.566370614359172\n"
   ]
  },
  {
   "cell_type": "code",
   "execution_count": null,
   "id": "9e512bf3",
   "metadata": {},
   "outputs": [],
   "source": [
    "7. Copy and paste the following code into pythons IDLE script environment. \n",
    "\n",
    "low = 1 \n",
    "high = 1001 \n",
    "sum = 0\n",
    " for i in range(low,high): sum += i \n",
    "print(\"sum = \" , sum)\n",
    "\n",
    " Modify the code to use a input to prompt the user for the values of low and high. Below is a sample execution in which the user asks for the same values as in the original program (1 through 1000):\n",
    " low? 1 \n",
    "high? 1001 \n",
    "sum = 500500 \n",
    "Below is an execution with different values for low and high:\n",
    " low? 300\n",
    " high? 5298 \n",
    "sum = 13986903 \n",
    "\n",
    "You should exactly reproduce this format"
   ]
  },
  {
   "cell_type": "code",
   "execution_count": 7,
   "id": "a786e0fb",
   "metadata": {},
   "outputs": [
    {
     "name": "stdout",
     "output_type": "stream",
     "text": [
      "low? 1\n",
      "high? 1001\n",
      "sum = 500500\n"
     ]
    }
   ],
   "source": [
    "low = int(input(\"low? \"))\n",
    "high = int(input(\"high? \"))\n",
    "sum = 0\n",
    "for i in range(low, high):\n",
    "    sum += i \n",
    "print(\"sum =\", sum)\n"
   ]
  },
  {
   "cell_type": "code",
   "execution_count": null,
   "id": "d6dac3e2",
   "metadata": {},
   "outputs": [],
   "source": [
    "8. Write a program using while loop that prompts the user for numbers until the user types 0,\n",
    "then outputs their sum. "
   ]
  },
  {
   "cell_type": "code",
   "execution_count": 8,
   "id": "fdd917b1",
   "metadata": {},
   "outputs": [
    {
     "name": "stdout",
     "output_type": "stream",
     "text": [
      "Enter a number (type 0 to stop): 15\n",
      "Enter a number (type 0 to stop): 13\n",
      "Enter a number (type 0 to stop): 44\n",
      "Enter a number (type 0 to stop): 0\n",
      "Sum of entered numbers: 72.0\n"
     ]
    }
   ],
   "source": [
    "sum_numbers = 0\n",
    "while True:\n",
    "    number = float(input(\"Enter a number (type 0 to stop): \"))\n",
    "    if number == 0:\n",
    "        break\n",
    "    sum_numbers += number\n",
    "\n",
    "print(\"Sum of entered numbers:\", sum_numbers)\n"
   ]
  },
  {
   "cell_type": "code",
   "execution_count": null,
   "id": "6d9c8084",
   "metadata": {},
   "outputs": [],
   "source": [
    "9. Write a program using while loop that prompts the user for numbers until the user types -1, then outputs their sum. \n"
   ]
  },
  {
   "cell_type": "code",
   "execution_count": 9,
   "id": "e740e097",
   "metadata": {},
   "outputs": [
    {
     "name": "stdout",
     "output_type": "stream",
     "text": [
      "Enter a number (type -1 to stop): 72\n",
      "Enter a number (type -1 to stop): 50\n",
      "Enter a number (type -1 to stop): 2\n",
      "Enter a number (type -1 to stop): 80\n",
      "Enter a number (type -1 to stop): -1\n",
      "Sum of entered numbers: 204.0\n"
     ]
    }
   ],
   "source": [
    "sum_numbers = 0\n",
    "while True:\n",
    "    number = float(input(\"Enter a number (type -1 to stop): \"))\n",
    "    if number == -1:\n",
    "        break\n",
    "    sum_numbers += number\n",
    "\n",
    "print(\"Sum of entered numbers:\", sum_numbers)\n"
   ]
  },
  {
   "cell_type": "code",
   "execution_count": null,
   "id": "45b89e71",
   "metadata": {},
   "outputs": [],
   "source": [
    "10. Write a method named repl that accepts a String and a number of repetitions as parameters and returns the String concatenated that many times. For example, the call repl(\"hello\", 3) returns \"hellohellohello\". \n",
    "If the number of repetitions is 0 or less, an empty string is returned."
   ]
  },
  {
   "cell_type": "code",
   "execution_count": 10,
   "id": "ae481a2e",
   "metadata": {},
   "outputs": [
    {
     "name": "stdout",
     "output_type": "stream",
     "text": [
      "hellohellohello\n"
     ]
    }
   ],
   "source": [
    "def repl(input_str, repetitions):\n",
    "    if repetitions <= 0:\n",
    "        return \"\"\n",
    "    else:\n",
    "        return input_str * repetitions\n",
    "\n",
    "# Example usage\n",
    "result = repl(\"hello\", 3)\n",
    "print(result)  # Output: \"hellohellohello\"\n"
   ]
  },
  {
   "cell_type": "code",
   "execution_count": null,
   "id": "eee7e843",
   "metadata": {},
   "outputs": [],
   "source": [
    "11. Write a method called printRange that accepts two integers as arguments and prints the sequence of numbers between the two arguments, separated by spaces. \n",
    " Print an increasing sequence if the first argument is smaller than the second; otherwise, print a decreasing sequence. If the two numbers are the same, that number should be printed by itself. Here are some sample calls to printRange:  \n",
    "\n",
    "printRange(2, 7) printRange(19, 11) printRange(5, 5)\n",
    "\n",
    " The output produced should be the following:\n",
    "2 3 4 5 6 7  \n",
    "\n",
    "19 18 17 16 15 14 13 12 11 5 "
   ]
  },
  {
   "cell_type": "code",
   "execution_count": 11,
   "id": "d696a00d",
   "metadata": {},
   "outputs": [
    {
     "name": "stdout",
     "output_type": "stream",
     "text": [
      "2 3 4 5 6 7 19 18 17 16 15 14 13 12 11 5\n"
     ]
    }
   ],
   "source": [
    "def printRange(start, end):\n",
    "    if start < end:\n",
    "        for num in range(start, end + 1):\n",
    "            print(num, end=\" \")\n",
    "    elif start > end:\n",
    "        for num in range(start, end - 1, -1):\n",
    "            print(num, end=\" \")\n",
    "    else:\n",
    "        print(start)\n",
    "\n",
    "# Example calls\n",
    "printRange(2, 7)\n",
    "printRange(19, 11)\n",
    "printRange(5, 5)\n"
   ]
  },
  {
   "cell_type": "code",
   "execution_count": null,
   "id": "ede6806c",
   "metadata": {},
   "outputs": [],
   "source": [
    "12. Write a method named smallestLargest that asks the user to enter numbers, then prints the smallest and largest of all the numbers typed in by the user. You may assume the user enters a valid number greater than 0 for the number of numbers to read. Here is an example dialogue:  How many numbers do you want to enter? 4 \n",
    "Number 1: 5 \n",
    "Number 2: 11 \n",
    "Number 3: -2 \n",
    "Number 4: 3 \n",
    "Smallest = -2 \n",
    "Largest = 11"
   ]
  },
  {
   "cell_type": "code",
   "execution_count": 15,
   "id": "ed497aca",
   "metadata": {},
   "outputs": [
    {
     "name": "stdout",
     "output_type": "stream",
     "text": [
      "How many numbers do you want to enter? 5\n",
      "Number 1: 1:7\n",
      "Invalid input: '1:7' is not a valid number. Please try again.\n",
      "Number 2: 4:2\n",
      "Invalid input: '4:2' is not a valid number. Please try again.\n",
      "Number 3: 1:3\n",
      "Invalid input: '1:3' is not a valid number. Please try again.\n",
      "Number 4: 2\n",
      "Number 5: 6\n",
      "Smallest = 2.0\n",
      "Largest = 6.0\n"
     ]
    }
   ],
   "source": [
    "def smallestLargest():\n",
    "    try:\n",
    "        num_count = int(input(\"How many numbers do you want to enter? \"))\n",
    "        smallest = float('inf')\n",
    "        largest = float('-inf')\n",
    "\n",
    "        for i in range(1, num_count + 1):\n",
    "            current_input = input(f\"Number {i}: \")\n",
    "            try:\n",
    "                current_num = float(current_input)\n",
    "                smallest = min(smallest, current_num)\n",
    "                largest = max(largest, current_num)\n",
    "            except ValueError:\n",
    "                print(f\"Invalid input: '{current_input}' is not a valid number. Please try again.\")\n",
    "\n",
    "        print(\"Smallest =\", smallest)\n",
    "        print(\"Largest =\", largest)\n",
    "    \n",
    "    except ValueError:\n",
    "        print(\"Invalid input. Please enter a valid number for the count.\")\n",
    "\n",
    "# Example usage\n",
    "smallestLargest()\n"
   ]
  },
  {
   "cell_type": "code",
   "execution_count": null,
   "id": "b93046df",
   "metadata": {},
   "outputs": [],
   "source": []
  },
  {
   "cell_type": "code",
   "execution_count": null,
   "id": "8a938bb5",
   "metadata": {},
   "outputs": [],
   "source": [
    "13. Write a method called printAverage that uses a sentinel loop to repeatedly prompt the user for numbers. Once the user types any number less than zero, the method should display the average of all nonnegative numbers typed. Display the average as a double. Here is a sample dialogue with the user: \n",
    "Type a number: 7 \n",
    "Type a number: 4 \n",
    "Type a number: 16 \n",
    "Type a number: –4 Average was 9.0\n",
    "\n",
    " If the first number that the user types is negative, do not print an average: \n",
    "\n",
    "Type a number: –2 "
   ]
  },
  {
   "cell_type": "code",
   "execution_count": 16,
   "id": "5f4c28e4",
   "metadata": {},
   "outputs": [
    {
     "name": "stdout",
     "output_type": "stream",
     "text": [
      "Type a number: 55\n",
      "Type a number: 23\n",
      "Type a number: 1000\n",
      "Type a number: 500\n",
      "Type a number: 17\n",
      "Type a number: 84\n",
      "Type a number: 3\n",
      "Type a number: 5\n",
      "Type a number: -2\n",
      "Average was 210.875\n"
     ]
    }
   ],
   "source": [
    "\n",
    "def printAverage():\n",
    "    total = 0\n",
    "    count = 0\n",
    "\n",
    "    while True:\n",
    "        number = float(input(\"Type a number: \"))\n",
    "        \n",
    "        if number < 0:\n",
    "            break\n",
    "        \n",
    "        total += number\n",
    "        count += 1\n",
    "\n",
    "    if count > 0:\n",
    "        average = total / count\n",
    "        print(\"Average was\", average)\n",
    "\n",
    "# Example usage\n",
    "printAverage()\n",
    "\n"
   ]
  },
  {
   "cell_type": "code",
   "execution_count": null,
   "id": "9f62e3c5",
   "metadata": {},
   "outputs": [],
   "source": [
    "14. Write a method named numUnique that takes three integers as parameters and returns the number of unique integers among the three. For example, the call numUnique(18, 3, 4) should return 3 because the parameters have three different values. By contrast, the call numUnique(6, 7, 6) should return 2 because there are only two unique numbers among the three parameters: 6 and 7.\n"
   ]
  },
  {
   "cell_type": "code",
   "execution_count": 17,
   "id": "e93c88c5",
   "metadata": {},
   "outputs": [
    {
     "name": "stdout",
     "output_type": "stream",
     "text": [
      "3\n",
      "2\n"
     ]
    }
   ],
   "source": [
    "def numUnique(num1, num2, num3):\n",
    "    unique_numbers = {num1, num2, num3}\n",
    "    return len(unique_numbers)\n",
    "\n",
    "# Example usage\n",
    "print(numUnique(18, 3, 4))  # Output: 3\n",
    "print(numUnique(6, 7, 6))   # Output: 2\n"
   ]
  },
  {
   "cell_type": "code",
   "execution_count": null,
   "id": "fecd0fca",
   "metadata": {},
   "outputs": [],
   "source": [
    "15. A Random object generates pseudo-random numbers. \n",
    "Find out how to use the Random class and write a program that simulates rolling of \n",
    "two 6sided dice until their combined result comes up as 7. One possible output can be seen as below:\n",
    " 2 + 4 = 6 \n",
    "3 + 5 = 8\n",
    " 5 + 6 = 11\n",
    " 1 + 1 = 2\n",
    " 4 + 3 = 7 \n",
    "You won after 5 tries! "
   ]
  },
  {
   "cell_type": "code",
   "execution_count": 18,
   "id": "f3886122",
   "metadata": {},
   "outputs": [
    {
     "name": "stdout",
     "output_type": "stream",
     "text": [
      "6 + 2 = 8\n",
      "1 + 4 = 5\n",
      "2 + 1 = 3\n",
      "6 + 3 = 9\n",
      "3 + 5 = 8\n",
      "4 + 3 = 7\n",
      "You won after 6 tries!\n"
     ]
    }
   ],
   "source": [
    "import random\n",
    "\n",
    "def simulateDiceRoll():\n",
    "    tries = 0\n",
    "\n",
    "    while True:\n",
    "        dice1 = random.randint(1, 6)\n",
    "        dice2 = random.randint(1, 6)\n",
    "        total = dice1 + dice2\n",
    "\n",
    "        print(f\"{dice1} + {dice2} = {total}\")\n",
    "\n",
    "        tries += 1\n",
    "\n",
    "        if total == 7:\n",
    "            print(f\"You won after {tries} tries!\")\n",
    "            break\n",
    "\n",
    "# Example usage\n",
    "simulateDiceRoll()\n"
   ]
  },
  {
   "cell_type": "code",
   "execution_count": null,
   "id": "2c51cde6",
   "metadata": {},
   "outputs": [],
   "source": []
  }
 ],
 "metadata": {
  "kernelspec": {
   "display_name": "Python 3 (ipykernel)",
   "language": "python",
   "name": "python3"
  },
  "language_info": {
   "codemirror_mode": {
    "name": "ipython",
    "version": 3
   },
   "file_extension": ".py",
   "mimetype": "text/x-python",
   "name": "python",
   "nbconvert_exporter": "python",
   "pygments_lexer": "ipython3",
   "version": "3.11.5"
  }
 },
 "nbformat": 4,
 "nbformat_minor": 5
}
