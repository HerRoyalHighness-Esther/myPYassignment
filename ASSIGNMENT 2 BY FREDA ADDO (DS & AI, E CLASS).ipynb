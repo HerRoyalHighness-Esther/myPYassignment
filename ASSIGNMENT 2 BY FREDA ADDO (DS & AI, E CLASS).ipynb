{
 "cells": [
  {
   "cell_type": "code",
   "execution_count": null,
   "id": "6c32c110",
   "metadata": {},
   "outputs": [],
   "source": [
    "1)Print the First 10 natural numbers"
   ]
  },
  {
   "cell_type": "code",
   "execution_count": 1,
   "id": "fff4d621",
   "metadata": {},
   "outputs": [
    {
     "name": "stdout",
     "output_type": "stream",
     "text": [
      "1\n",
      "2\n",
      "3\n",
      "4\n",
      "5\n",
      "6\n",
      "7\n",
      "8\n",
      "9\n",
      "10\n"
     ]
    }
   ],
   "source": [
    "for i in range (1,11):\n",
    "    print(i)"
   ]
  },
  {
   "cell_type": "code",
   "execution_count": null,
   "id": "8c4619f0",
   "metadata": {},
   "outputs": [],
   "source": [
    "# 2)print(\"====The First 10 Natural Numbers====\")]"
   ]
  },
  {
   "cell_type": "code",
   "execution_count": 2,
   "id": "04ed8553",
   "metadata": {},
   "outputs": [
    {
     "name": "stdout",
     "output_type": "stream",
     "text": [
      "===The First 10 Natural Numbers===\n"
     ]
    }
   ],
   "source": [
    "print(\"===The First 10 Natural Numbers===\")"
   ]
  },
  {
   "cell_type": "code",
   "execution_count": null,
   "id": "a7d8b137",
   "metadata": {},
   "outputs": [],
   "source": [
    "#3)Count the total number of digits in a number"
   ]
  },
  {
   "cell_type": "code",
   "execution_count": 12,
   "id": "753370c1",
   "metadata": {},
   "outputs": [
    {
     "name": "stdout",
     "output_type": "stream",
     "text": [
      "Enter a number: 123456\n",
      "The total number of digits in the number is 6.\n"
     ]
    }
   ],
   "source": [
    "num = input(\"Enter a number: \")\n",
    "\n",
    "# Check if the input is a valid integer\n",
    "if num.isdigit():\n",
    "    num = int(num)\n",
    "    count = 0\n",
    "\n",
    "    while num != 0:\n",
    "        num //= 10\n",
    "        count += 1\n",
    "\n",
    "    print(f\"The total number of digits in the number is {count}.\")\n",
    "else:\n",
    "    print(\"Invalid input. Please enter a valid integer.\")"
   ]
  },
  {
   "cell_type": "code",
   "execution_count": null,
   "id": "d9b5de7d",
   "metadata": {},
   "outputs": [],
   "source": [
    "  4) Write a program to display all prime numbers within a range"
   ]
  },
  {
   "cell_type": "code",
   "execution_count": null,
   "id": "d101b281",
   "metadata": {},
   "outputs": [],
   "source": []
  },
  {
   "cell_type": "code",
   "execution_count": 13,
   "id": "1f755f7e",
   "metadata": {},
   "outputs": [
    {
     "name": "stdout",
     "output_type": "stream",
     "text": [
      "Enter the starting number of the range: 10\n",
      "Enter the ending number of the range: 50\n",
      "Prime numbers between 10 and 50:\n",
      "11\n",
      "13\n",
      "17\n",
      "19\n",
      "23\n",
      "29\n",
      "31\n",
      "37\n",
      "41\n",
      "43\n",
      "47\n"
     ]
    }
   ],
   "source": [
    "def is_prime(num):\n",
    "    if num < 2:\n",
    "        return False\n",
    "    for i in range(2, int(num**0.5) + 1):\n",
    "        if num % i == 0:\n",
    "            return False\n",
    "    return True\n",
    "\n",
    "def display_primes_in_range(start, end):\n",
    "    print(f\"Prime numbers between {start} and {end}:\")\n",
    "    for number in range(start, end + 1):\n",
    "        if is_prime(number):\n",
    "            print(number)\n",
    "\n",
    "# Get user input for the range\n",
    "start_range = int(input(\"Enter the starting number of the range: \"))\n",
    "end_range = int(input(\"Enter the ending number of the range: \"))\n",
    "\n",
    "# Display prime numbers in the specified range\n",
    "display_primes_in_range(start_range, end_range)\n"
   ]
  },
  {
   "cell_type": "code",
   "execution_count": null,
   "id": "d9536e1a",
   "metadata": {},
   "outputs": [],
   "source": [
    "5)Write a program to print a multiplication table of a given number"
   ]
  },
  {
   "cell_type": "code",
   "execution_count": 14,
   "id": "2aa9b177",
   "metadata": {},
   "outputs": [
    {
     "name": "stdout",
     "output_type": "stream",
     "text": [
      "Enter a number to get its multiplication table: 33\n",
      "Multiplication table for 33:\n",
      "33 * 1 = 33\n",
      "33 * 2 = 66\n",
      "33 * 3 = 99\n",
      "33 * 4 = 132\n",
      "33 * 5 = 165\n",
      "33 * 6 = 198\n",
      "33 * 7 = 231\n",
      "33 * 8 = 264\n",
      "33 * 9 = 297\n",
      "33 * 10 = 330\n"
     ]
    }
   ],
   "source": [
    "def multiplication_table(number):\n",
    "    print(f\"Multiplication table for {number}:\")\n",
    "\n",
    "    for i in range(1, 11):\n",
    "        result = number * i\n",
    "        print(f\"{number} * {i} = {result}\")\n",
    "\n",
    "# Get user input for the number\n",
    "num = int(input(\"Enter a number to get its multiplication table: \"))\n",
    "\n",
    "# Display multiplication table for the entered number\n",
    "multiplication_table(num)\n"
   ]
  },
  {
   "cell_type": "code",
   "execution_count": null,
   "id": "02b8c2dc",
   "metadata": {},
   "outputs": [],
   "source": []
  }
 ],
 "metadata": {
  "kernelspec": {
   "display_name": "Python 3 (ipykernel)",
   "language": "python",
   "name": "python3"
  },
  "language_info": {
   "codemirror_mode": {
    "name": "ipython",
    "version": 3
   },
   "file_extension": ".py",
   "mimetype": "text/x-python",
   "name": "python",
   "nbconvert_exporter": "python",
   "pygments_lexer": "ipython3",
   "version": "3.11.5"
  }
 },
 "nbformat": 4,
 "nbformat_minor": 5
}
