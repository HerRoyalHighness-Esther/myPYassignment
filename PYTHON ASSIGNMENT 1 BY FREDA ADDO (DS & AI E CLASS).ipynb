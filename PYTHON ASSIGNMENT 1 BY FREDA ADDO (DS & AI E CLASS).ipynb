{
 "cells": [
  {
   "cell_type": "markdown",
   "id": "0ebb9042",
   "metadata": {},
   "source": [
    "# ASSIGNMENT 1"
   ]
  },
  {
   "cell_type": "code",
   "execution_count": 10,
   "id": "5b6d1647",
   "metadata": {},
   "outputs": [
    {
     "name": "stdout",
     "output_type": "stream",
     "text": [
      "\ta\tb\tc\n"
     ]
    }
   ],
   "source": [
    "# Question 1.What is the output of the following print statements?\n",
    "#print(\"\\ta\\tb\\tc\"), print(\"\\\\\\\\\"),print(\"'\"),print(\"\\\"\\\"\\\"\"),\n",
    "#print(\"C:\\nin\\the downward spiral\")\n",
    "\n",
    "#Print Statements Answers \n",
    "print(\"\\ta\\tb\\tc\")"
   ]
  },
  {
   "cell_type": "code",
   "execution_count": 3,
   "id": "d9d05dc0",
   "metadata": {},
   "outputs": [
    {
     "name": "stdout",
     "output_type": "stream",
     "text": [
      "\\\\\n"
     ]
    }
   ],
   "source": [
    "print(\"\\\\\\\\\")"
   ]
  },
  {
   "cell_type": "code",
   "execution_count": 4,
   "id": "9117ccee",
   "metadata": {},
   "outputs": [
    {
     "name": "stdout",
     "output_type": "stream",
     "text": [
      "'\n"
     ]
    }
   ],
   "source": [
    "print(\"'\")"
   ]
  },
  {
   "cell_type": "code",
   "execution_count": 1,
   "id": "60fa0f7d",
   "metadata": {},
   "outputs": [
    {
     "name": "stdout",
     "output_type": "stream",
     "text": [
      "\"\"\"\n"
     ]
    }
   ],
   "source": [
    "print(\"\\\"\\\"\\\"\")"
   ]
  },
  {
   "cell_type": "code",
   "execution_count": 2,
   "id": "246119a6",
   "metadata": {},
   "outputs": [
    {
     "name": "stdout",
     "output_type": "stream",
     "text": [
      "C:\n",
      "in\the downward spiral\n"
     ]
    }
   ],
   "source": [
    "print(\"C:\\nin\\the downward spiral\")\n"
   ]
  },
  {
   "cell_type": "code",
   "execution_count": null,
   "id": "81b0f98a",
   "metadata": {},
   "outputs": [],
   "source": [
    "2. Write a print statement to produce this output:\n",
    "/ \\ // \\\\ /// \\\\\\\n"
   ]
  },
  {
   "cell_type": "code",
   "execution_count": 7,
   "id": "f0dc2c94",
   "metadata": {},
   "outputs": [
    {
     "name": "stdout",
     "output_type": "stream",
     "text": [
      "/ \\ // \\\\ /// \\\\\\\n"
     ]
    }
   ],
   "source": [
    "print(\"/ \\\\ // \\\\\\\\ /// \\\\\\\\\\\\\")"
   ]
  },
  {
   "cell_type": "code",
   "execution_count": null,
   "id": "b15cebae",
   "metadata": {},
   "outputs": [],
   "source": [
    "3.What print statements will generate this output?\n",
    "This quote is from Irish poet Oscar Wilde:\n",
    "\"Music makes one feel so romantic\n",
    "\n",
    "- at least it always gets on one's nerves – which is the same thing nowadays.\"\n"
   ]
  },
  {
   "cell_type": "code",
   "execution_count": 8,
   "id": "593176ea",
   "metadata": {},
   "outputs": [
    {
     "name": "stdout",
     "output_type": "stream",
     "text": [
      "This quote is from Irish poet Oscar Wilde:\n",
      "\"Music makes one feel so romantic\n",
      "\n",
      "- at least it always gets on one's nerves – which is the same thing nowadays.\"\n"
     ]
    }
   ],
   "source": [
    "print(\"This quote is from Irish poet Oscar Wilde:\")\n",
    "print(\"\\\"Music makes one feel so romantic\\n\\n- at least it always gets on one's nerves – which is the same thing nowadays.\\\"\")\n"
   ]
  },
  {
   "cell_type": "code",
   "execution_count": null,
   "id": "5e91a013",
   "metadata": {},
   "outputs": [],
   "source": [
    "4.What print statements will generate this output?\n",
    "A \"quoted\" String is 'much' better if you learn\n",
    "the rules of \"escape sequences.\" Also, \"\" represents an empty String. Don't forget: use \\\" instead of \" ! '' is not the same as \"\n"
   ]
  },
  {
   "cell_type": "code",
   "execution_count": 9,
   "id": "bd732f8a",
   "metadata": {},
   "outputs": [
    {
     "name": "stdout",
     "output_type": "stream",
     "text": [
      "A \"quoted\" String is 'much' better if you learn\n",
      "the rules of \"escape sequences.\" Also, \"\" represents an empty String. Don't forget: use \\\" instead of \" ! '' is not the same as \"\n"
     ]
    }
   ],
   "source": [
    "print('A \"quoted\" String is \\'much\\' better if you learn\\nthe rules of \"escape sequences.\" Also, \"\" represents an empty String. Don\\'t forget: use \\\\\" instead of \" ! \\'\\' is not the same as \"')\n"
   ]
  },
  {
   "cell_type": "code",
   "execution_count": 12,
   "id": "7f157795",
   "metadata": {
    "scrolled": false
   },
   "outputs": [
    {
     "ename": "SyntaxError",
     "evalue": "invalid character '–' (U+2013) (2655958994.py, line 3)",
     "output_type": "error",
     "traceback": [
      "\u001b[1;36m  Cell \u001b[1;32mIn[12], line 3\u001b[1;36m\u001b[0m\n\u001b[1;33m    – 9 / 5\u001b[0m\n\u001b[1;37m    ^\u001b[0m\n\u001b[1;31mSyntaxError\u001b[0m\u001b[1;31m:\u001b[0m invalid character '–' (U+2013)\n"
     ]
    }
   ],
   "source": [
    "#5.What values result from the following expressions?\n",
    "\n",
    "– 9 / 5\n",
    "– 695 % 20\n",
    "– 7 + 6 * 5\n",
    "– 7 * 6 + 5\n",
    "– 248 % 100 / 5\n",
    "– 6 * 3 - 9 / 4\n",
    "– (5 - 7) * 4\n",
    "–  6 + (18 % (17 - 12))\n",
    "\n"
   ]
  },
  {
   "cell_type": "code",
   "execution_count": 13,
   "id": "ff6535e8",
   "metadata": {},
   "outputs": [
    {
     "name": "stdout",
     "output_type": "stream",
     "text": [
      "-1.8\n",
      "15\n",
      "37\n",
      "47\n",
      "9.6\n",
      "15.75\n",
      "-8\n",
      "9\n"
     ]
    }
   ],
   "source": [
    "print(-9 / 5)\n",
    "print(695 % 20)\n",
    "print(7 + 6 * 5)\n",
    "print(7 * 6 + 5)\n",
    "print(248 % 100 / 5)\n",
    "print(6 * 3 - 9 / 4)\n",
    "print((5 - 7) * 4)\n",
    "print(6 + (18 % (17 - 12)))\n"
   ]
  },
  {
   "cell_type": "code",
   "execution_count": null,
   "id": "d5061f6d",
   "metadata": {},
   "outputs": [],
   "source": []
  }
 ],
 "metadata": {
  "kernelspec": {
   "display_name": "Python 3 (ipykernel)",
   "language": "python",
   "name": "python3"
  },
  "language_info": {
   "codemirror_mode": {
    "name": "ipython",
    "version": 3
   },
   "file_extension": ".py",
   "mimetype": "text/x-python",
   "name": "python",
   "nbconvert_exporter": "python",
   "pygments_lexer": "ipython3",
   "version": "3.11.5"
  }
 },
 "nbformat": 4,
 "nbformat_minor": 5
}
